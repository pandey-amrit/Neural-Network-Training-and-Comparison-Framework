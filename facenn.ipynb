{
 "cells": [
  {
   "cell_type": "code",
   "execution_count": 22,
   "metadata": {},
   "outputs": [],
   "source": [
    "import numpy as np\n",
    "from scipy.optimize import minimize\n",
    "from math import sqrt\n",
    "import pickle\n",
    "import matplotlib.pyplot as plt"
   ]
  },
  {
   "cell_type": "code",
   "execution_count": 23,
   "metadata": {},
   "outputs": [],
   "source": [
    "def initializeWeights(n_in, n_out):\n",
    "    epsilon = sqrt(6) / sqrt(n_in + n_out + 1)\n",
    "    W = (np.random.rand(n_out, n_in + 1) * 2 * epsilon) - epsilon\n",
    "    return W\n"
   ]
  },
  {
   "cell_type": "code",
   "execution_count": 24,
   "metadata": {},
   "outputs": [],
   "source": [
    "def sigmoid(z):\n",
    "    return 1 / (1 + np.exp(-z))"
   ]
  },
  {
   "cell_type": "code",
   "execution_count": null,
   "metadata": {},
   "outputs": [],
   "source": [
    "def nnObjFunction(params, *args):\n",
    "    n_input, n_hidden, n_class, training_data, training_label, lambdaval = args\n",
    "    w1 = params[0:n_hidden * (n_input + 1)].reshape((n_hidden, (n_input + 1)))\n",
    "    w2 = params[(n_hidden * (n_input + 1)):].reshape((n_class, (n_hidden + 1)))\n",
    "    num_samples = training_data.shape[0]\n",
    "\n",
    "    # Forward propagation\n",
    "    training_data = np.hstack((training_data, np.ones((num_samples, 1))))\n",
    "    hidden_input = np.dot(training_data, w1.T)\n",
    "    hidden_output = sigmoid(hidden_input)\n",
    "    hidden_output = np.hstack((hidden_output, np.ones((hidden_output.shape[0], 1))))\n",
    "    output_input = np.dot(hidden_output, w2.T)\n",
    "    output = sigmoid(output_input)\n",
    "\n",
    "    y = np.zeros((num_samples, n_class))\n",
    "    y[np.arange(num_samples), training_label.astype(int)] = 1\n",
    "\n",
    "    # Regularzition\n",
    "    log_error = y * np.log(output) + (1 - y) * np.log(1 - output)\n",
    "    obj_val = -np.sum(log_error) / num_samples\n",
    "    obj_val += (lambdaval / (2 * num_samples)) * (np.sum(np.square(w1)) + np.sum(np.square(w2)))\n",
    "\n",
    "    # Backpropagation\n",
    "    delta_output = output - y\n",
    "    grad_w2 = np.dot(delta_output.T, hidden_output) / num_samples + (lambdaval / num_samples) * w2\n",
    "    delta_hidden = np.dot(delta_output, w2) * hidden_output * (1 - hidden_output)\n",
    "    delta_hidden = delta_hidden[:, :-1]\n",
    "    grad_w1 = np.dot(delta_hidden.T, training_data) / num_samples + (lambdaval / num_samples) * w1\n",
    "\n",
    "    obj_grad = np.concatenate((grad_w1.flatten(), grad_w2.flatten()), 0)\n",
    "    return obj_val, obj_grad"
   ]
  },
  {
   "cell_type": "code",
   "execution_count": 26,
   "metadata": {},
   "outputs": [],
   "source": [
    "def nnPredict(w1, w2, data):\n",
    "    data = np.hstack((data, np.ones((data.shape[0], 1))))\n",
    "    hidden_input = np.dot(data, w1.T)\n",
    "    hidden_output = sigmoid(hidden_input)\n",
    "    hidden_output = np.hstack((hidden_output, np.ones((hidden_output.shape[0], 1))))\n",
    "    output_input = np.dot(hidden_output, w2.T)\n",
    "    output = sigmoid(output_input)\n",
    "    labels = np.argmax(output, axis=1)\n",
    "    return labels "
   ]
  },
  {
   "cell_type": "code",
   "execution_count": 27,
   "metadata": {},
   "outputs": [],
   "source": [
    "def preprocess():\n",
    "    with open('face_all.pickle', 'rb') as f:\n",
    "        pickle_obj = pickle.load(f)\n",
    "    features = pickle_obj['Features']\n",
    "    labels = pickle_obj['Labels']\n",
    "    \n",
    "    train_x = features[0:21100] / 255.0\n",
    "    valid_x = features[21100:23765] / 255.0\n",
    "    test_x = features[23765:] / 255.0\n",
    "\n",
    "    train_y = labels[0][0:21100]\n",
    "    valid_y = labels[0][21100:23765]\n",
    "    test_y = labels[0][23765:]\n",
    "    \n",
    "    return train_x, train_y, valid_x, valid_y, test_x, test_y"
   ]
  },
  {
   "cell_type": "code",
   "execution_count": null,
   "metadata": {},
   "outputs": [
    {
     "name": "stdout",
     "output_type": "stream",
     "text": [
      "\n",
      " Training set Accuracy: 85.38388625592417%\n",
      "\n",
      " Validation set Accuracy: 84.16510318949342%\n",
      "\n",
      " Test set Accuracy: 85.99545798637396%\n"
     ]
    }
   ],
   "source": [
    "train_data, train_label, validation_data, validation_label, test_data, test_label = preprocess()\n",
    "\n",
    "#hyperparameters ----- Tried several values which i have metioned in the report \n",
    "n_input = train_data.shape[1]\n",
    "n_hidden = 256  \n",
    "n_class = 2\n",
    "lambdaval = 55  \n",
    "\n",
    "initial_w1 = initializeWeights(n_input, n_hidden)\n",
    "initial_w2 = initializeWeights(n_hidden, n_class)\n",
    "initialWeights = np.concatenate((initial_w1.flatten(), initial_w2.flatten()), 0)\n",
    "\n",
    "args = (n_input, n_hidden, n_class, train_data, train_label, lambdaval)\n",
    "opts = {'maxiter': 50}\n",
    "\n",
    "nn_params = minimize(nnObjFunction, initialWeights, jac=True, args=args, method='CG', options=opts)\n",
    "params = nn_params.x\n",
    "\n",
    "# Reshaping back\n",
    "w1 = params[0:n_hidden * (n_input + 1)].reshape((n_hidden, (n_input + 1)))\n",
    "w2 = params[(n_hidden * (n_input + 1)):].reshape((n_class, (n_hidden + 1)))\n",
    "\n",
    "\n",
    "predicted_label = nnPredict(w1, w2, train_data)\n",
    "print('\\n Training set Accuracy: ' + str(100 * np.mean((predicted_label == train_label).astype(float))) + '%')\n",
    "\n",
    "predicted_label = nnPredict(w1, w2, validation_data)\n",
    "print('\\n Validation set Accuracy: ' + str(100 * np.mean((predicted_label == validation_label).astype(float))) + '%')\n",
    "\n",
    "predicted_label = nnPredict(w1, w2, test_data)\n",
    "print('\\n Test set Accuracy: ' + str(100 * np.mean((predicted_label == test_label).astype(float))) + '%')"
   ]
  }
 ],
 "metadata": {
  "kernelspec": {
   "display_name": "Python 3",
   "language": "python",
   "name": "python3"
  },
  "language_info": {
   "codemirror_mode": {
    "name": "ipython",
    "version": 3
   },
   "file_extension": ".py",
   "mimetype": "text/x-python",
   "name": "python",
   "nbconvert_exporter": "python",
   "pygments_lexer": "ipython3",
   "version": "3.12.6"
  }
 },
 "nbformat": 4,
 "nbformat_minor": 2
}
